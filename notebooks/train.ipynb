{
 "cells": [
  {
   "cell_type": "code",
   "execution_count": null,
   "id": "9591f5bf",
   "metadata": {},
   "outputs": [],
   "source": [
    "from src.mathematics import sum_numbers"
   ]
  },
  {
   "cell_type": "code",
   "execution_count": null,
   "id": "3beb4906",
   "metadata": {},
   "outputs": [],
   "source": [
    "sum_numbers"
   ]
  },
  {
   "cell_type": "code",
   "execution_count": 2,
   "id": "8acceb9f",
   "metadata": {},
   "outputs": [
    {
     "name": "stdout",
     "output_type": "stream",
     "text": [
      "The sum of the numbers is: 16\n"
     ]
    }
   ],
   "source": [
    "result = sum_numbers([1, 2, 3, 4, 5])\n",
    "print(f\"The sum of the numbers is: {result}\")"
   ]
  },
  {
   "cell_type": "code",
   "execution_count": null,
   "id": "e8019afc",
   "metadata": {},
   "outputs": [],
   "source": []
  }
 ],
 "metadata": {
  "kernelspec": {
   "display_name": "organization-source-code-lesson (3.11.11)",
   "language": "python",
   "name": "python3"
  },
  "language_info": {
   "codemirror_mode": {
    "name": "ipython",
    "version": 3
   },
   "file_extension": ".py",
   "mimetype": "text/x-python",
   "name": "python",
   "nbconvert_exporter": "python",
   "pygments_lexer": "ipython3",
   "version": "3.11.11"
  }
 },
 "nbformat": 4,
 "nbformat_minor": 5
}
